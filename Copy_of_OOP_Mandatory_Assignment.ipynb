{
  "cells": [
    {
      "cell_type": "markdown",
      "id": "e9977157",
      "metadata": {
        "id": "e9977157"
      },
      "source": [
        "# Object-Oriented Programming (OOP) - Practice Assignment\n",
        "\n",
        "This assignment will help you understand the basics of Object-Oriented Programming (OOP) in Python.  \n",
        "Each question is written in a simple way so that you know exactly what to do.\n",
        "\n",
        "**Structure:**\n",
        "- 6 Easy Questions  \n",
        "- 2 Medium Questions  \n",
        "- 2 Hard Questions\n",
        "\n",
        "Follow each question carefully and try to run the examples step by step.\n"
      ]
    },
    {
      "cell_type": "markdown",
      "id": "522a3c58",
      "metadata": {
        "id": "522a3c58"
      },
      "source": [
        "### Question 1 (Easy)\n",
        "**Create a Class and Object**\n",
        "\n",
        "Create a class named `Student` with one attribute `name`.  \n",
        "Then create an object of this class and print the student's name.\n",
        "\n",
        "*Hint:* Use the `__init__` method to initialize the name attribute."
      ]
    },
    {
      "cell_type": "code",
      "source": [
        "#answer here\n",
        "class student():\n",
        "  def __init__(self,name):\n",
        "    self.name = name\n",
        "  def __str__(self):\n",
        "    return f'{self.name}'\n",
        "obj = student('vipin kumar')\n",
        "print(obj)\n"
      ],
      "metadata": {
        "id": "eoxW1xeIzyDT",
        "outputId": "633559d7-7f16-4247-9f02-7cd9b4943dc0",
        "colab": {
          "base_uri": "https://localhost:8080/"
        }
      },
      "id": "eoxW1xeIzyDT",
      "execution_count": null,
      "outputs": [
        {
          "output_type": "stream",
          "name": "stdout",
          "text": [
            "vipin kumar\n"
          ]
        }
      ]
    },
    {
      "cell_type": "markdown",
      "id": "62eb0fc1",
      "metadata": {
        "id": "62eb0fc1"
      },
      "source": [
        "### Question 2 (Easy)\n",
        "**Add Multiple Attributes**\n",
        "\n",
        "Create a class `Car` that has two attributes: `brand` and `year`.  \n",
        "Create two objects of this class for two different cars and print their details using `print()`."
      ]
    },
    {
      "cell_type": "code",
      "source": [
        "#answer here\n",
        "class student:\n",
        "  def __init__(self,brand,year):\n",
        "    self.br = brand\n",
        "    self.yr = year\n",
        "  def __str__(self):\n",
        "    return(f'{self.br} {self.yr}')\n",
        "obj = student('volvo',2023)\n",
        "obj1 = student('tata',2022)\n",
        "print(obj)\n",
        "print(obj1)\n",
        "\n"
      ],
      "metadata": {
        "id": "aDLB9Ourz1fb",
        "outputId": "e14fee2a-4210-48cc-b061-eb47ee7e44e0",
        "colab": {
          "base_uri": "https://localhost:8080/"
        }
      },
      "id": "aDLB9Ourz1fb",
      "execution_count": null,
      "outputs": [
        {
          "output_type": "stream",
          "name": "stdout",
          "text": [
            "volvo 2023\n",
            "tata 2022\n"
          ]
        }
      ]
    },
    {
      "cell_type": "markdown",
      "id": "009120a2",
      "metadata": {
        "id": "009120a2"
      },
      "source": [
        "### Question 3 (Easy)\n",
        "**Methods in a Class**\n",
        "\n",
        "Create a class `Circle` with one attribute `radius`.  \n",
        "Add a method `area()` that returns the area of the circle.\n",
        "\n",
        "*Formula:* Area = π × radius²"
      ]
    },
    {
      "cell_type": "code",
      "source": [
        "#answer here\n",
        "class circle:\n",
        "  def __init__(self,radius):\n",
        "    self.rd = radius\n",
        "  def area(self):\n",
        "    return 3.14*(self.rd*self.rd)\n",
        "obj = circle(5)\n",
        "print(obj.area())"
      ],
      "metadata": {
        "id": "yNLySqc9z2PO",
        "outputId": "4a378869-7662-4fdb-9cfc-adc7cbbb551c",
        "colab": {
          "base_uri": "https://localhost:8080/"
        }
      },
      "id": "yNLySqc9z2PO",
      "execution_count": null,
      "outputs": [
        {
          "output_type": "stream",
          "name": "stdout",
          "text": [
            "78.5\n"
          ]
        }
      ]
    },
    {
      "cell_type": "markdown",
      "id": "0b760f6d",
      "metadata": {
        "id": "0b760f6d"
      },
      "source": [
        "### Question 4 (Easy)\n",
        "**Default and Parameterized Constructor**\n",
        "\n",
        "Create a class `Book` that takes the book title and author name as parameters when creating an object.  \n",
        "Also, create one object without any arguments and set default values like `'Unknown Title'` and `'Unknown Author'`."
      ]
    },
    {
      "cell_type": "code",
      "source": [
        "#answer here\n",
        "class Book:\n",
        "  def __init__(self,title,author) -> None:\n",
        "    self.tl = title\n",
        "    self.atr = author\n",
        "  def __str__(self) -> str:\n",
        "    return(f'{self.tl} {self.atr}')\n",
        "obj = Book('Unknown Title','Unknown Author')\n",
        "print(obj)"
      ],
      "metadata": {
        "id": "pbYx_DZDz2xR",
        "outputId": "3dcb5c96-e05f-4d42-b3a3-02b56d2c0dfd",
        "colab": {
          "base_uri": "https://localhost:8080/"
        }
      },
      "id": "pbYx_DZDz2xR",
      "execution_count": null,
      "outputs": [
        {
          "output_type": "stream",
          "name": "stdout",
          "text": [
            "Unknown Title Unknown Author\n"
          ]
        }
      ]
    },
    {
      "cell_type": "markdown",
      "id": "67ac94fd",
      "metadata": {
        "id": "67ac94fd"
      },
      "source": [
        "### Question 5 (Easy)\n",
        "**Use of Self Keyword**\n",
        "\n",
        "Create a class `Employee` that has a method `display()` which prints `'This is an Employee class'`.  \n",
        "Then create one object and call the method using that object."
      ]
    },
    {
      "cell_type": "code",
      "source": [
        "#answer here\n",
        "class Employee:\n",
        "  def display(self):\n",
        "    print('This is an Employee class')\n",
        "obj = Employee()\n",
        "obj.display()"
      ],
      "metadata": {
        "id": "8JXQn5LCz3Qp",
        "outputId": "b652f977-c684-49f5-a69c-f83e04078a4c",
        "colab": {
          "base_uri": "https://localhost:8080/"
        }
      },
      "id": "8JXQn5LCz3Qp",
      "execution_count": null,
      "outputs": [
        {
          "output_type": "stream",
          "name": "stdout",
          "text": [
            "This is an Employee class\n"
          ]
        }
      ]
    },
    {
      "cell_type": "markdown",
      "id": "dce22c96",
      "metadata": {
        "id": "dce22c96"
      },
      "source": [
        "### Question 6 (Easy)\n",
        "**Simple Calculator Class**\n",
        "\n",
        "Create a class `Calculator` with methods for addition, subtraction, multiplication, and division.  \n",
        "Each method should take two numbers as parameters and return the result."
      ]
    },
    {
      "cell_type": "code",
      "source": [
        "#answer here\n",
        "class cal:\n",
        "    def add(self,a,b):\n",
        "        self.a1 = a\n",
        "        self.b1 = b\n",
        "        return self.a1+self.b1\n",
        "    def sub(self,a,b):\n",
        "        self.a1 = a\n",
        "        self.b1 = b\n",
        "        return self.a1-self.b1\n",
        "    def mul(self,a,b):\n",
        "        self.a1 = a\n",
        "        self.b1 = b\n",
        "        return self.a1*self.b1\n",
        "    def div(self,a,b):\n",
        "        self.a1 = a\n",
        "        self.b1 = b\n",
        "        return self.a1/self.b1\n",
        "obj = cal()\n",
        "print(obj.add(8,4))\n",
        "print(obj.sub(8,4))\n",
        "print(obj.mul(8,4))\n",
        "print(obj.div(8,4))"
      ],
      "metadata": {
        "id": "WeDQIvebz3uF",
        "outputId": "c87d69a4-8d2a-400b-8404-5fcb6164b022",
        "colab": {
          "base_uri": "https://localhost:8080/"
        }
      },
      "id": "WeDQIvebz3uF",
      "execution_count": null,
      "outputs": [
        {
          "output_type": "stream",
          "name": "stdout",
          "text": [
            "12\n",
            "4\n",
            "32\n",
            "2.0\n"
          ]
        }
      ]
    },
    {
      "cell_type": "markdown",
      "id": "d5f60974",
      "metadata": {
        "id": "d5f60974"
      },
      "source": [
        "### Question 7 (Medium)\n",
        "**Working with Multiple Objects**\n",
        "\n",
        "Create a class `Student` with attributes `name`, `marks1`, `marks2`, and `marks3`.  \n",
        "Add a method `average()` that returns the average marks of the student.  \n",
        "Create objects for three students and print their average marks."
      ]
    },
    {
      "cell_type": "code",
      "source": [
        "#answer here\n",
        "class Student:\n",
        "  def __init__(self,name,marks1,marks2,marks3):\n",
        "     self.nm = name\n",
        "     self.m1 = marks1\n",
        "     self.m2 = marks2\n",
        "     self.m3 = marks3\n",
        "  def avg(self):\n",
        "    return (self.m1+self.m2+self.m3)/3\n",
        "obj1 = Student('vipin kumar',99,98,97)\n",
        "obj2 = Student('vinay kumar',90,91,92)\n",
        "obj3 = Student('viraj kumar',89,88,87)\n",
        "print(obj1.avg())\n",
        "print(obj2.avg())\n",
        "print(obj3.avg())"
      ],
      "metadata": {
        "id": "un7JLb6dz4MD",
        "outputId": "1419aee9-9d39-457b-9060-0dfaf27e3bd4",
        "colab": {
          "base_uri": "https://localhost:8080/"
        }
      },
      "id": "un7JLb6dz4MD",
      "execution_count": null,
      "outputs": [
        {
          "output_type": "stream",
          "name": "stdout",
          "text": [
            "98.0\n",
            "91.0\n",
            "88.0\n"
          ]
        }
      ]
    },
    {
      "cell_type": "markdown",
      "id": "6047ad11",
      "metadata": {
        "id": "6047ad11"
      },
      "source": [
        "### Question 8 (Medium)\n",
        "**Inheritance Concept**\n",
        "\n",
        "Create a base class `Person` with an attribute `name` and a method `show_name()`.  \n",
        "Then create a derived class `Teacher` that adds a new attribute `subject` and a method `show_subject()`.  \n",
        "Create an object of `Teacher` and call both methods."
      ]
    },
    {
      "cell_type": "code",
      "source": [
        "#answer here\n",
        "class Person:\n",
        "    def __init__(self, name):\n",
        "        self.name = name\n",
        "\n",
        "    def show_name(self):\n",
        "        print(\"Name:\", self.name)\n",
        "class Teacher(Person):\n",
        "    def __init__(self, name, subject):\n",
        "        super().__init__(name)\n",
        "        self.subject = subject\n",
        "\n",
        "    def show_subject(self):\n",
        "        print(\"Subject:\", self.subject)\n",
        "t1 = Teacher(\"Rahul\", \"Math\")\n",
        "t1.show_name()\n",
        "t1.show_subject()\n"
      ],
      "metadata": {
        "id": "3RF85lsjz4sT",
        "outputId": "3e0845c1-0d01-4103-ba08-69994afc7265",
        "colab": {
          "base_uri": "https://localhost:8080/"
        }
      },
      "id": "3RF85lsjz4sT",
      "execution_count": null,
      "outputs": [
        {
          "output_type": "stream",
          "name": "stdout",
          "text": [
            "Name: Rahul\n",
            "Subject: Math\n"
          ]
        }
      ]
    },
    {
      "cell_type": "markdown",
      "id": "062ac860",
      "metadata": {
        "id": "062ac860"
      },
      "source": [
        "### Question 9 (Hard)\n",
        "**Encapsulation Example**\n",
        "\n",
        "Create a class `BankAccount` with attributes `__balance` (private) and `account_holder`.  \n",
        "Add methods `deposit(amount)` and `withdraw(amount)` to update the balance safely.  \n",
        "Print the final balance only through a method `show_balance()`."
      ]
    },
    {
      "cell_type": "code",
      "source": [
        "#answer here\n",
        "class BankAccount():\n",
        "    def __init__(self,name,balance=0):\n",
        "        self.nm = name\n",
        "        self.blc = balance\n",
        "    def deposit(self,amount):\n",
        "         self.blc = self.blc+amount\n",
        "    def withdraw(self,amount):\n",
        "        if amount <= self.blc:\n",
        "            self.blc = self.blc-amount\n",
        "        else:\n",
        "            print('not efficient balance')\n",
        "    def display_balance(self):\n",
        "        print(f\"{self.nm}'s balance {self.blc}\")\n",
        "obj = BankAccount('Himashu',600)\n",
        "obj.deposit(250)\n",
        "obj.withdraw(1500)\n",
        "obj.display_balance()"
      ],
      "metadata": {
        "id": "F6gWsUOFz5XN",
        "colab": {
          "base_uri": "https://localhost:8080/"
        },
        "outputId": "2d996ba3-4f3a-4cb6-b66b-cc2465ce04d1"
      },
      "id": "F6gWsUOFz5XN",
      "execution_count": 3,
      "outputs": [
        {
          "output_type": "stream",
          "name": "stdout",
          "text": [
            "not efficient balance\n",
            "Himashu's balance 850\n"
          ]
        }
      ]
    },
    {
      "cell_type": "markdown",
      "id": "f10a7d88",
      "metadata": {
        "id": "f10a7d88"
      },
      "source": [
        "### Question 10 (Hard)\n",
        "**Polymorphism Example**\n",
        "\n",
        "Create two classes: `Dog` and `Cat`.  \n",
        "Both should have a method named `speak()` that prints the sound of the animal.  \n",
        "Write a function `animal_sound(animal)` that calls the `speak()` method of any animal passed to it.\n",
        "\n",
        "*Hint:* This shows how the same method name can have different behaviors depending on the object type."
      ]
    },
    {
      "cell_type": "code",
      "source": [
        "#answer here\n",
        "class Dog:\n",
        "  def speak(self):\n",
        "    print(\"!woof woof\")\n",
        "\n",
        "class Cat:\n",
        "  def speak(self):\n",
        "    print(\"!meow meow\")\n",
        "\n",
        "def animal_sound(animal):\n",
        "    animal.speak()\n",
        "\n",
        "obj1 = Dog()\n",
        "obj2 = Cat()\n",
        "animal_sound(obj1)\n",
        "animal_sound(obj2)\n"
      ],
      "metadata": {
        "id": "tvczT-hEz6Kd",
        "colab": {
          "base_uri": "https://localhost:8080/"
        },
        "outputId": "8df8c9a0-7ba3-475d-d07d-c87ba8a2f590"
      },
      "id": "tvczT-hEz6Kd",
      "execution_count": 9,
      "outputs": [
        {
          "output_type": "stream",
          "name": "stdout",
          "text": [
            "!woof woof\n",
            "!meow meow\n"
          ]
        }
      ]
    }
  ],
  "metadata": {
    "colab": {
      "provenance": []
    },
    "language_info": {
      "name": "python"
    },
    "kernelspec": {
      "name": "python3",
      "display_name": "Python 3"
    }
  },
  "nbformat": 4,
  "nbformat_minor": 5
}